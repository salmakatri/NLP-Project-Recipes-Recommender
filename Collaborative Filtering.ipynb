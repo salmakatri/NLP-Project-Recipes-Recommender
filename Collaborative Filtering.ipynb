{
 "cells": [
  {
   "cell_type": "code",
   "execution_count": 58,
   "metadata": {},
   "outputs": [],
   "source": [
    "import pandas as pd\n",
    "from sklearn.metrics.pairwise import cosine_similarity\n",
    "import operator\n",
    "import statistics\n",
    "import matplotlib.pyplot as plt\n",
    "import numpy as np\n",
    "%matplotlib inline"
   ]
  },
  {
   "cell_type": "code",
   "execution_count": 59,
   "metadata": {},
   "outputs": [],
   "source": [
    "#load users raw data\n",
    "interactions = pd.read_csv(r\"C:\\Users\\salma.katri\\Desktop\\Metis\\NLP\\data\\RAW_interactions.csv\")"
   ]
  },
  {
   "cell_type": "code",
   "execution_count": 60,
   "metadata": {},
   "outputs": [],
   "source": [
    "#load recipes raw data\n",
    "recipes = pd.read_csv(r\"C:\\Users\\salma.katri\\Desktop\\Metis\\NLP\\data\\RAW_recipes.csv\")"
   ]
  },
  {
   "cell_type": "markdown",
   "metadata": {},
   "source": [
    "## Data Exploration"
   ]
  },
  {
   "cell_type": "code",
   "execution_count": 61,
   "metadata": {},
   "outputs": [
    {
     "data": {
      "text/plain": [
       "(1132367, 5)"
      ]
     },
     "execution_count": 61,
     "metadata": {},
     "output_type": "execute_result"
    }
   ],
   "source": [
    "interactions.shape"
   ]
  },
  {
   "cell_type": "code",
   "execution_count": 62,
   "metadata": {},
   "outputs": [
    {
     "data": {
      "text/plain": [
       "array([4, 5, 0, 2, 3, 1], dtype=int64)"
      ]
     },
     "execution_count": 62,
     "metadata": {},
     "output_type": "execute_result"
    }
   ],
   "source": [
    "interactions.rating.unique()"
   ]
  },
  {
   "cell_type": "code",
   "execution_count": 63,
   "metadata": {},
   "outputs": [
    {
     "data": {
      "text/plain": [
       "226570"
      ]
     },
     "execution_count": 63,
     "metadata": {},
     "output_type": "execute_result"
    }
   ],
   "source": [
    "# number of users\n",
    "len(interactions['user_id'].unique())"
   ]
  },
  {
   "cell_type": "code",
   "execution_count": 64,
   "metadata": {},
   "outputs": [
    {
     "data": {
      "text/plain": [
       "231637"
      ]
     },
     "execution_count": 64,
     "metadata": {},
     "output_type": "execute_result"
    }
   ],
   "source": [
    "# number of unique recipes\n",
    "len(interactions['recipe_id'].unique())"
   ]
  },
  {
   "cell_type": "code",
   "execution_count": 65,
   "metadata": {},
   "outputs": [
    {
     "data": {
      "text/plain": [
       "4.997868208500684"
      ]
     },
     "execution_count": 65,
     "metadata": {},
     "output_type": "execute_result"
    }
   ],
   "source": [
    "# avg number of recipes rated per user\n",
    "ratings_per_user = interactions.groupby('user_id')['rating'].count()\n",
    "statistics.mean(ratings_per_user.tolist())"
   ]
  },
  {
   "cell_type": "code",
   "execution_count": 66,
   "metadata": {},
   "outputs": [
    {
     "data": {
      "text/plain": [
       "user_id\n",
       "424680     7671\n",
       "37449      5603\n",
       "383346     4628\n",
       "169430     4076\n",
       "128473     3917\n",
       "           ... \n",
       "2744231       1\n",
       "2744177       1\n",
       "2744161       1\n",
       "2744132       1\n",
       "1579230       1\n",
       "Name: rating, Length: 226570, dtype: int64"
      ]
     },
     "execution_count": 66,
     "metadata": {},
     "output_type": "execute_result"
    }
   ],
   "source": [
    "ratings_per_user.sort_values(ascending=False)"
   ]
  },
  {
   "cell_type": "code",
   "execution_count": 67,
   "metadata": {},
   "outputs": [
    {
     "data": {
      "text/plain": [
       "<matplotlib.axes._subplots.AxesSubplot at 0x29e0506a198>"
      ]
     },
     "execution_count": 67,
     "metadata": {},
     "output_type": "execute_result"
    },
    {
     "data": {
      "image/png": "[encoded data removed]",
      "text/plain": [
       "<Figure size 800x400 with 1 Axes>"
      ]
     },
     "metadata": {
      "needs_background": "light"
     },
     "output_type": "display_data"
    }
   ],
   "source": [
    "# distribution of ratings per user\n",
    "import matplotlib.pyplot as plt\n",
    "from matplotlib.pyplot import figure\n",
    "figure(figsize=(8, 4), dpi=100)\n",
    "ratings_per_user.hist(bins=20, range=(0,200))"
   ]
  },
  {
   "cell_type": "code",
   "execution_count": 68,
   "metadata": {},
   "outputs": [
    {
     "data": {
      "text/plain": [
       "4.888541122532238"
      ]
     },
     "execution_count": 68,
     "metadata": {},
     "output_type": "execute_result"
    }
   ],
   "source": [
    "# avg number of ratings given per recipe\n",
    "ratings_per_recipe = interactions.groupby('recipe_id')['rating'].count()\n",
    "statistics.mean(ratings_per_recipe.tolist())"
   ]
  },
  {
   "cell_type": "code",
   "execution_count": 69,
   "metadata": {},
   "outputs": [
    {
     "data": {
      "text/plain": [
       "<matplotlib.axes._subplots.AxesSubplot at 0x29e20b7fa58>"
      ]
     },
     "execution_count": 69,
     "metadata": {},
     "output_type": "execute_result"
    },
    {
     "data": {
      "image/png": "[encoded data removed]",
      "text/plain": [
       "<Figure size 800x400 with 1 Axes>"
      ]
     },
     "metadata": {
      "needs_background": "light"
     },
     "output_type": "display_data"
    }
   ],
   "source": [
    "# distribution of ratings per recipe\n",
    "figure(figsize=(8, 4), dpi=100)\n",
    "ratings_per_recipe.hist(bins=20, range=(0,300))"
   ]
  },
  {
   "cell_type": "markdown",
   "metadata": {},
   "source": [
    "## Data Manipulation"
   ]
  },
  {
   "cell_type": "code",
   "execution_count": 70,
   "metadata": {},
   "outputs": [],
   "source": [
    "# counts of ratings per recipe as a df\n",
    "ratings_per_recipe_df = pd.DataFrame(ratings_per_recipe)\n",
    "# remove if < 50 ratings\n",
    "filtered_ratings_per_recipe_df = ratings_per_recipe_df[ratings_per_recipe_df.rating >= 50]\n",
    "# build a list of recipe_ids to keep\n",
    "popular_recipes = filtered_ratings_per_recipe_df.index.tolist()"
   ]
  },
  {
   "cell_type": "code",
   "execution_count": 71,
   "metadata": {},
   "outputs": [],
   "source": [
    "# counts ratings per user as a df\n",
    "ratings_per_user_df = pd.DataFrame(ratings_per_user)\n",
    "# remove if < 50\n",
    "filtered_ratings_per_user_df = ratings_per_user_df[ratings_per_user_df.rating >= 50]\n",
    "# build a list of user_ids to keep\n",
    "prolific_users = filtered_ratings_per_user_df.index.tolist()"
   ]
  },
  {
   "cell_type": "code",
   "execution_count": 72,
   "metadata": {},
   "outputs": [
    {
     "data": {
      "text/plain": [
       "(606866, 5)"
      ]
     },
     "execution_count": 72,
     "metadata": {},
     "output_type": "execute_result"
    }
   ],
   "source": [
    "#only keep popular recipes and prolific users\n",
    "filtered_ratings = interactions[interactions.recipe_id.isin(popular_recipes)]\n",
    "filtered_ratings = interactions[interactions.user_id.isin(prolific_users)]\n",
    "filtered_ratings.shape"
   ]
  },
  {
   "cell_type": "markdown",
   "metadata": {},
   "source": [
    "## Recommender System"
   ]
  },
  {
   "cell_type": "code",
   "execution_count": 73,
   "metadata": {},
   "outputs": [
    {
     "data": {
      "text/html": [
       "<div>\n",
       "<style scoped>\n",
       "    .dataframe tbody tr th:only-of-type {\n",
       "        vertical-align: middle;\n",
       "    }\n",
       "\n",
       "    .dataframe tbody tr th {\n",
       "        vertical-align: top;\n",
       "    }\n",
       "\n",
       "    .dataframe thead th {\n",
       "        text-align: right;\n",
       "    }\n",
       "</style>\n",
       "<table border=\"1\" class=\"dataframe\">\n",
       "  <thead>\n",
       "    <tr style=\"text-align: right;\">\n",
       "      <th>recipe_id</th>\n",
       "      <th>38</th>\n",
       "      <th>40</th>\n",
       "      <th>41</th>\n",
       "      <th>45</th>\n",
       "      <th>46</th>\n",
       "      <th>49</th>\n",
       "      <th>52</th>\n",
       "      <th>53</th>\n",
       "      <th>55</th>\n",
       "      <th>58</th>\n",
       "      <th>...</th>\n",
       "      <th>536734</th>\n",
       "      <th>536990</th>\n",
       "      <th>537071</th>\n",
       "      <th>537073</th>\n",
       "      <th>537175</th>\n",
       "      <th>537241</th>\n",
       "      <th>537319</th>\n",
       "      <th>537458</th>\n",
       "      <th>537459</th>\n",
       "      <th>537485</th>\n",
       "    </tr>\n",
       "    <tr>\n",
       "      <th>user_id</th>\n",
       "      <th></th>\n",
       "      <th></th>\n",
       "      <th></th>\n",
       "      <th></th>\n",
       "      <th></th>\n",
       "      <th></th>\n",
       "      <th></th>\n",
       "      <th></th>\n",
       "      <th></th>\n",
       "      <th></th>\n",
       "      <th></th>\n",
       "      <th></th>\n",
       "      <th></th>\n",
       "      <th></th>\n",
       "      <th></th>\n",
       "      <th></th>\n",
       "      <th></th>\n",
       "      <th></th>\n",
       "      <th></th>\n",
       "      <th></th>\n",
       "      <th></th>\n",
       "    </tr>\n",
       "  </thead>\n",
       "  <tbody>\n",
       "    <tr>\n",
       "      <th>1533</th>\n",
       "      <td>0.0</td>\n",
       "      <td>0.0</td>\n",
       "      <td>0.0</td>\n",
       "      <td>0.0</td>\n",
       "      <td>0.0</td>\n",
       "      <td>0.0</td>\n",
       "      <td>0.0</td>\n",
       "      <td>0.0</td>\n",
       "      <td>0.0</td>\n",
       "      <td>0.0</td>\n",
       "      <td>...</td>\n",
       "      <td>0.0</td>\n",
       "      <td>0.0</td>\n",
       "      <td>0.0</td>\n",
       "      <td>0.0</td>\n",
       "      <td>0.0</td>\n",
       "      <td>0.0</td>\n",
       "      <td>0.0</td>\n",
       "      <td>0.0</td>\n",
       "      <td>0.0</td>\n",
       "      <td>0.0</td>\n",
       "    </tr>\n",
       "    <tr>\n",
       "      <th>1535</th>\n",
       "      <td>0.0</td>\n",
       "      <td>0.0</td>\n",
       "      <td>0.0</td>\n",
       "      <td>0.0</td>\n",
       "      <td>0.0</td>\n",
       "      <td>0.0</td>\n",
       "      <td>0.0</td>\n",
       "      <td>0.0</td>\n",
       "      <td>0.0</td>\n",
       "      <td>0.0</td>\n",
       "      <td>...</td>\n",
       "      <td>0.0</td>\n",
       "      <td>0.0</td>\n",
       "      <td>0.0</td>\n",
       "      <td>0.0</td>\n",
       "      <td>0.0</td>\n",
       "      <td>0.0</td>\n",
       "      <td>0.0</td>\n",
       "      <td>0.0</td>\n",
       "      <td>0.0</td>\n",
       "      <td>0.0</td>\n",
       "    </tr>\n",
       "    <tr>\n",
       "      <th>1634</th>\n",
       "      <td>0.0</td>\n",
       "      <td>0.0</td>\n",
       "      <td>0.0</td>\n",
       "      <td>0.0</td>\n",
       "      <td>0.0</td>\n",
       "      <td>0.0</td>\n",
       "      <td>0.0</td>\n",
       "      <td>0.0</td>\n",
       "      <td>0.0</td>\n",
       "      <td>0.0</td>\n",
       "      <td>...</td>\n",
       "      <td>0.0</td>\n",
       "      <td>0.0</td>\n",
       "      <td>0.0</td>\n",
       "      <td>0.0</td>\n",
       "      <td>0.0</td>\n",
       "      <td>0.0</td>\n",
       "      <td>0.0</td>\n",
       "      <td>0.0</td>\n",
       "      <td>0.0</td>\n",
       "      <td>0.0</td>\n",
       "    </tr>\n",
       "    <tr>\n",
       "      <th>2310</th>\n",
       "      <td>0.0</td>\n",
       "      <td>0.0</td>\n",
       "      <td>0.0</td>\n",
       "      <td>0.0</td>\n",
       "      <td>0.0</td>\n",
       "      <td>0.0</td>\n",
       "      <td>0.0</td>\n",
       "      <td>0.0</td>\n",
       "      <td>0.0</td>\n",
       "      <td>0.0</td>\n",
       "      <td>...</td>\n",
       "      <td>0.0</td>\n",
       "      <td>0.0</td>\n",
       "      <td>0.0</td>\n",
       "      <td>0.0</td>\n",
       "      <td>0.0</td>\n",
       "      <td>0.0</td>\n",
       "      <td>0.0</td>\n",
       "      <td>0.0</td>\n",
       "      <td>0.0</td>\n",
       "      <td>0.0</td>\n",
       "    </tr>\n",
       "    <tr>\n",
       "      <th>2312</th>\n",
       "      <td>0.0</td>\n",
       "      <td>0.0</td>\n",
       "      <td>0.0</td>\n",
       "      <td>0.0</td>\n",
       "      <td>0.0</td>\n",
       "      <td>0.0</td>\n",
       "      <td>0.0</td>\n",
       "      <td>0.0</td>\n",
       "      <td>0.0</td>\n",
       "      <td>0.0</td>\n",
       "      <td>...</td>\n",
       "      <td>0.0</td>\n",
       "      <td>0.0</td>\n",
       "      <td>0.0</td>\n",
       "      <td>0.0</td>\n",
       "      <td>0.0</td>\n",
       "      <td>0.0</td>\n",
       "      <td>0.0</td>\n",
       "      <td>0.0</td>\n",
       "      <td>0.0</td>\n",
       "      <td>0.0</td>\n",
       "    </tr>\n",
       "  </tbody>\n",
       "</table>\n",
       "<p>5 rows × 186021 columns</p>\n",
       "</div>"
      ],
      "text/plain": [
       "recipe_id  38      40      41      45      46      49      52      53      \\\n",
       "user_id                                                                     \n",
       "1533          0.0     0.0     0.0     0.0     0.0     0.0     0.0     0.0   \n",
       "1535          0.0     0.0     0.0     0.0     0.0     0.0     0.0     0.0   \n",
       "1634          0.0     0.0     0.0     0.0     0.0     0.0     0.0     0.0   \n",
       "2310          0.0     0.0     0.0     0.0     0.0     0.0     0.0     0.0   \n",
       "2312          0.0     0.0     0.0     0.0     0.0     0.0     0.0     0.0   \n",
       "\n",
       "recipe_id  55      58      ...  536734  536990  537071  537073  537175  \\\n",
       "user_id                    ...                                           \n",
       "1533          0.0     0.0  ...     0.0     0.0     0.0     0.0     0.0   \n",
       "1535          0.0     0.0  ...     0.0     0.0     0.0     0.0     0.0   \n",
       "1634          0.0     0.0  ...     0.0     0.0     0.0     0.0     0.0   \n",
       "2310          0.0     0.0  ...     0.0     0.0     0.0     0.0     0.0   \n",
       "2312          0.0     0.0  ...     0.0     0.0     0.0     0.0     0.0   \n",
       "\n",
       "recipe_id  537241  537319  537458  537459  537485  \n",
       "user_id                                            \n",
       "1533          0.0     0.0     0.0     0.0     0.0  \n",
       "1535          0.0     0.0     0.0     0.0     0.0  \n",
       "1634          0.0     0.0     0.0     0.0     0.0  \n",
       "2310          0.0     0.0     0.0     0.0     0.0  \n",
       "2312          0.0     0.0     0.0     0.0     0.0  \n",
       "\n",
       "[5 rows x 186021 columns]"
      ]
     },
     "execution_count": 73,
     "metadata": {},
     "output_type": "execute_result"
    }
   ],
   "source": [
    "#create user-rating matrix\n",
    "rating_matrix = filtered_ratings.pivot_table(index='user_id', columns='recipe_id', values='rating')\n",
    "# replace NaN values with 0\n",
    "rating_matrix = rating_matrix.fillna(0)\n",
    "rating_matrix.head()"
   ]
  },
  {
   "cell_type": "code",
   "execution_count": 74,
   "metadata": {},
   "outputs": [
    {
     "name": "stdout",
     "output_type": "stream",
     "text": [
      "[103809, 28339, 29212]\n"
     ]
    }
   ],
   "source": [
    "#create function to find similar users\n",
    "def similar_users(user_id, matrix, k=3):\n",
    "    # create a df of just the current user\n",
    "    user = matrix[matrix.index == user_id]\n",
    "    \n",
    "    # and a df of all other users\n",
    "    other_users = matrix[matrix.index != user_id]\n",
    "    \n",
    "    # calc cosine similarity between user and each other user\n",
    "    similarities = cosine_similarity(user,other_users)[0].tolist()\n",
    "    \n",
    "    # create list of indices of these users\n",
    "    indices = other_users.index.tolist()\n",
    "    \n",
    "    # create key/values pairs of user index and their similarity\n",
    "    index_similarity = dict(zip(indices, similarities))\n",
    "    \n",
    "    # sort by similarity\n",
    "    index_similarity_sorted = sorted(index_similarity.items(), key=operator.itemgetter(1))\n",
    "    index_similarity_sorted.reverse()\n",
    "    \n",
    "    # grab k users off the top\n",
    "    top_users_similarities = index_similarity_sorted[:k]\n",
    "    users = [u[0] for u in top_users_similarities]\n",
    "    \n",
    "    return users\n",
    "    \n",
    "current_user = 1533\n",
    "similar_user_indices = similar_users(current_user, rating_matrix)\n",
    "print(similar_user_indices)"
   ]
  },
  {
   "cell_type": "code",
   "execution_count": 75,
   "metadata": {},
   "outputs": [
    {
     "data": {
      "text/html": [
       "<div>\n",
       "<style scoped>\n",
       "    .dataframe tbody tr th:only-of-type {\n",
       "        vertical-align: middle;\n",
       "    }\n",
       "\n",
       "    .dataframe tbody tr th {\n",
       "        vertical-align: top;\n",
       "    }\n",
       "\n",
       "    .dataframe thead th {\n",
       "        text-align: right;\n",
       "    }\n",
       "</style>\n",
       "<table border=\"1\" class=\"dataframe\">\n",
       "  <thead>\n",
       "    <tr style=\"text-align: right;\">\n",
       "      <th></th>\n",
       "      <th>name</th>\n",
       "      <th>id</th>\n",
       "      <th>minutes</th>\n",
       "      <th>contributor_id</th>\n",
       "      <th>submitted</th>\n",
       "      <th>tags</th>\n",
       "      <th>nutrition</th>\n",
       "      <th>n_steps</th>\n",
       "      <th>steps</th>\n",
       "      <th>description</th>\n",
       "      <th>ingredients</th>\n",
       "      <th>n_ingredients</th>\n",
       "    </tr>\n",
       "  </thead>\n",
       "  <tbody>\n",
       "    <tr>\n",
       "      <th>43029</th>\n",
       "      <td>chicken and stuffing bake</td>\n",
       "      <td>37423</td>\n",
       "      <td>40</td>\n",
       "      <td>22015</td>\n",
       "      <td>2002-08-16</td>\n",
       "      <td>['60-minutes-or-less', 'time-to-make', 'course...</td>\n",
       "      <td>[251.3, 7.0, 11.0, 24.0, 58.0, 6.0, 7.0]</td>\n",
       "      <td>10</td>\n",
       "      <td>['preheat oven to 400 degrees', 'prepare stuff...</td>\n",
       "      <td>a long time favorite that i just found again.</td>\n",
       "      <td>['chicken flavor stuffing mix', 'boneless skin...</td>\n",
       "      <td>5</td>\n",
       "    </tr>\n",
       "    <tr>\n",
       "      <th>78674</th>\n",
       "      <td>easy  creamy hamburger stroganoff</td>\n",
       "      <td>36784</td>\n",
       "      <td>15</td>\n",
       "      <td>36128</td>\n",
       "      <td>2002-08-12</td>\n",
       "      <td>['15-minutes-or-less', 'time-to-make', 'course...</td>\n",
       "      <td>[417.6, 45.0, 17.0, 27.0, 53.0, 64.0, 3.0]</td>\n",
       "      <td>4</td>\n",
       "      <td>['brown hamburger in large skillet with onion ...</td>\n",
       "      <td>this easy version of stroganoff is so deliciou...</td>\n",
       "      <td>['hamburger', 'onion', 'garlic clove', 'cream ...</td>\n",
       "      <td>9</td>\n",
       "    </tr>\n",
       "    <tr>\n",
       "      <th>163319</th>\n",
       "      <td>pork chops yum yum</td>\n",
       "      <td>95222</td>\n",
       "      <td>70</td>\n",
       "      <td>82507</td>\n",
       "      <td>2004-07-07</td>\n",
       "      <td>['time-to-make', 'course', 'main-ingredient', ...</td>\n",
       "      <td>[427.1, 27.0, 78.0, 53.0, 87.0, 30.0, 6.0]</td>\n",
       "      <td>4</td>\n",
       "      <td>['brown chops on both sides', 'place in grease...</td>\n",
       "      <td>i copied this from the orlando sentinel months...</td>\n",
       "      <td>['pork chops', 'chicken broth', 'honey', 'soy ...</td>\n",
       "      <td>7</td>\n",
       "    </tr>\n",
       "    <tr>\n",
       "      <th>187399</th>\n",
       "      <td>simple tomato sandwich</td>\n",
       "      <td>98724</td>\n",
       "      <td>5</td>\n",
       "      <td>81611</td>\n",
       "      <td>2004-08-27</td>\n",
       "      <td>['15-minutes-or-less', 'time-to-make', 'course...</td>\n",
       "      <td>[266.0, 16.0, 40.0, 27.0, 10.0, 8.0, 12.0]</td>\n",
       "      <td>6</td>\n",
       "      <td>['toast bread', 'slice tomato', 'when bread is...</td>\n",
       "      <td>i am only posting such a simple recipe because...</td>\n",
       "      <td>['bread', 'tomatoes', 'miracle whip', 'salt']</td>\n",
       "      <td>4</td>\n",
       "    </tr>\n",
       "    <tr>\n",
       "      <th>219891</th>\n",
       "      <td>uncle bill s whipped shortbread cookies</td>\n",
       "      <td>46877</td>\n",
       "      <td>32</td>\n",
       "      <td>27416</td>\n",
       "      <td>2002-11-19</td>\n",
       "      <td>['60-minutes-or-less', 'time-to-make', 'course...</td>\n",
       "      <td>[110.8, 11.0, 14.0, 2.0, 1.0, 24.0, 3.0]</td>\n",
       "      <td>13</td>\n",
       "      <td>['preheat oven to 350 degrees f', 'in a mixing...</td>\n",
       "      <td>these are very easy to make shortbread cookies...</td>\n",
       "      <td>['butter', 'all-purpose flour', 'icing sugar',...</td>\n",
       "      <td>6</td>\n",
       "    </tr>\n",
       "  </tbody>\n",
       "</table>\n",
       "</div>"
      ],
      "text/plain": [
       "                                           name     id  minutes  \\\n",
       "43029                 chicken and stuffing bake  37423       40   \n",
       "78674         easy  creamy hamburger stroganoff  36784       15   \n",
       "163319                       pork chops yum yum  95222       70   \n",
       "187399                   simple tomato sandwich  98724        5   \n",
       "219891  uncle bill s whipped shortbread cookies  46877       32   \n",
       "\n",
       "        contributor_id   submitted  \\\n",
       "43029            22015  2002-08-16   \n",
       "78674            36128  2002-08-12   \n",
       "163319           82507  2004-07-07   \n",
       "187399           81611  2004-08-27   \n",
       "219891           27416  2002-11-19   \n",
       "\n",
       "                                                     tags  \\\n",
       "43029   ['60-minutes-or-less', 'time-to-make', 'course...   \n",
       "78674   ['15-minutes-or-less', 'time-to-make', 'course...   \n",
       "163319  ['time-to-make', 'course', 'main-ingredient', ...   \n",
       "187399  ['15-minutes-or-less', 'time-to-make', 'course...   \n",
       "219891  ['60-minutes-or-less', 'time-to-make', 'course...   \n",
       "\n",
       "                                         nutrition  n_steps  \\\n",
       "43029     [251.3, 7.0, 11.0, 24.0, 58.0, 6.0, 7.0]       10   \n",
       "78674   [417.6, 45.0, 17.0, 27.0, 53.0, 64.0, 3.0]        4   \n",
       "163319  [427.1, 27.0, 78.0, 53.0, 87.0, 30.0, 6.0]        4   \n",
       "187399  [266.0, 16.0, 40.0, 27.0, 10.0, 8.0, 12.0]        6   \n",
       "219891    [110.8, 11.0, 14.0, 2.0, 1.0, 24.0, 3.0]       13   \n",
       "\n",
       "                                                    steps  \\\n",
       "43029   ['preheat oven to 400 degrees', 'prepare stuff...   \n",
       "78674   ['brown hamburger in large skillet with onion ...   \n",
       "163319  ['brown chops on both sides', 'place in grease...   \n",
       "187399  ['toast bread', 'slice tomato', 'when bread is...   \n",
       "219891  ['preheat oven to 350 degrees f', 'in a mixing...   \n",
       "\n",
       "                                              description  \\\n",
       "43029       a long time favorite that i just found again.   \n",
       "78674   this easy version of stroganoff is so deliciou...   \n",
       "163319  i copied this from the orlando sentinel months...   \n",
       "187399  i am only posting such a simple recipe because...   \n",
       "219891  these are very easy to make shortbread cookies...   \n",
       "\n",
       "                                              ingredients  n_ingredients  \n",
       "43029   ['chicken flavor stuffing mix', 'boneless skin...              5  \n",
       "78674   ['hamburger', 'onion', 'garlic clove', 'cream ...              9  \n",
       "163319  ['pork chops', 'chicken broth', 'honey', 'soy ...              7  \n",
       "187399      ['bread', 'tomatoes', 'miracle whip', 'salt']              4  \n",
       "219891  ['butter', 'all-purpose flour', 'icing sugar',...              6  "
      ]
     },
     "execution_count": 75,
     "metadata": {},
     "output_type": "execute_result"
    }
   ],
   "source": [
    "def recommend_item(user_index, similar_user_indices, matrix, items=5):\n",
    "    \n",
    "    # load vectors for similar users\n",
    "    similar_users = matrix[matrix.index.isin(similar_user_indices)]\n",
    "    # calc avg ratings across the 3 similar users\n",
    "    similar_users = similar_users.mean(axis=0)\n",
    "    # convert to dataframe so its easy to sort and filter\n",
    "    similar_users_df = pd.DataFrame(similar_users, columns=['mean'])\n",
    "    \n",
    "    \n",
    "    # load vector for the current user\n",
    "    user_df = matrix[matrix.index == user_index]\n",
    "    # transpose it so its easier to filter\n",
    "    user_df_transposed = user_df.transpose()\n",
    "    # rename the column as 'rating'\n",
    "    user_df_transposed.columns = ['rating']\n",
    "    # remove any rows without a 0 value (recipes not rated yet)\n",
    "    user_df_transposed = user_df_transposed[user_df_transposed['rating']==0]\n",
    "    # generate a list of recipes the user has not rated\n",
    "    recipes_unrated = user_df_transposed.index.tolist()\n",
    "    \n",
    "    # filter avg ratings of similar users for only recipes the current user has not rated\n",
    "    similar_users_df_filtered = similar_users_df[similar_users_df.index.isin(recipes_unrated)]\n",
    "    # order the dataframe\n",
    "    similar_users_df_ordered = similar_users_df.sort_values(by=['mean'], ascending=False)\n",
    "    # grab the top n recipes   \n",
    "    top_n_recipes = similar_users_df_ordered.head(items)\n",
    "    top_n_recipes_indices = top_n_recipes.index.tolist()\n",
    "    # lookup these recipes in the other dataframe to find names\n",
    "    recipes_information = recipes[recipes['id'].isin(top_n_recipes_indices)]\n",
    "    \n",
    "    return recipes_information #items\n",
    "# try it out\n",
    "recommend_item(1533, similar_user_indices, rating_matrix)"
   ]
  },
  {
   "cell_type": "code",
   "execution_count": null,
   "metadata": {},
   "outputs": [],
   "source": []
  }
 ],
 "metadata": {
  "kernelspec": {
   "display_name": "Python 3",
   "language": "python",
   "name": "python3"
  },
  "language_info": {
   "codemirror_mode": {
    "name": "ipython",
    "version": 3
   },
   "file_extension": ".py",
   "mimetype": "text/x-python",
   "name": "python",
   "nbconvert_exporter": "python",
   "pygments_lexer": "ipython3",
   "version": "3.7.0"
  }
 },
 "nbformat": 4,
 "nbformat_minor": 2
}
